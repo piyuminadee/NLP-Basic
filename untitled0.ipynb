{
  "nbformat": 4,
  "nbformat_minor": 0,
  "metadata": {
    "colab": {
      "provenance": [],
      "authorship_tag": "ABX9TyOln3fikIxvKpnuHfBIJTRE",
      "include_colab_link": true
    },
    "kernelspec": {
      "name": "python3",
      "display_name": "Python 3"
    },
    "language_info": {
      "name": "python"
    }
  },
  "cells": [
    {
      "cell_type": "markdown",
      "metadata": {
        "id": "view-in-github",
        "colab_type": "text"
      },
      "source": [
        "<a href=\"https://colab.research.google.com/github/piyuminadee/NLP-Basic/blob/main/untitled0.ipynb\" target=\"_parent\"><img src=\"https://colab.research.google.com/assets/colab-badge.svg\" alt=\"Open In Colab\"/></a>"
      ]
    },
    {
      "cell_type": "code",
      "execution_count": null,
      "metadata": {
        "colab": {
          "base_uri": "https://localhost:8080/"
        },
        "id": "9pgzHRaajX9Y",
        "outputId": "d1c96f12-9e3c-4bbc-88ea-399e120733b0"
      },
      "outputs": [
        {
          "output_type": "stream",
          "name": "stdout",
          "text": [
            "Requirement already satisfied: nltk in /usr/local/lib/python3.10/dist-packages (3.8.1)\n",
            "Requirement already satisfied: click in /usr/local/lib/python3.10/dist-packages (from nltk) (8.1.7)\n",
            "Requirement already satisfied: joblib in /usr/local/lib/python3.10/dist-packages (from nltk) (1.4.2)\n",
            "Requirement already satisfied: regex>=2021.8.3 in /usr/local/lib/python3.10/dist-packages (from nltk) (2024.9.11)\n",
            "Requirement already satisfied: tqdm in /usr/local/lib/python3.10/dist-packages (from nltk) (4.66.5)\n"
          ]
        }
      ],
      "source": [
        "pip install nltk"
      ]
    },
    {
      "cell_type": "code",
      "source": [
        "corpors = \"\"\"2. Class Test (10% of total marks):\n",
        "Class Test Date: 1st November 2024 10.00am\n",
        "Your group will orally present the planning documents to key project stakeholders from\n",
        "Innovative IT Solutions. The presentation should highlight key elements and demonstrate\n",
        "application of project management principles. A Q&A session will follow to address any concerns\n",
        "or questions from stakeholders.\n",
        "Evaluation Criteria:\n",
        "• Completeness, clarity and quality of planning documents\n",
        "• Practical application of project management knowledge\n",
        "• Collaboration and roles/responsibilities of group members\n",
        "• Presentation skills and response to questions in class test\n",
        "No extensions to deadlines.\"\"\""
      ],
      "metadata": {
        "id": "BPVFxIkwjdBX"
      },
      "execution_count": null,
      "outputs": []
    },
    {
      "cell_type": "code",
      "source": [
        "corpors"
      ],
      "metadata": {
        "colab": {
          "base_uri": "https://localhost:8080/",
          "height": 105
        },
        "id": "wRrZN3cYj6Gy",
        "outputId": "5d9406b7-c45f-4a96-a285-cfe4c79dabd6"
      },
      "execution_count": null,
      "outputs": [
        {
          "output_type": "execute_result",
          "data": {
            "text/plain": [
              "'2. Class Test (10% of total marks):\\nClass Test Date: 1st November 2024 10.00am\\nYour group will orally present the planning documents to key project stakeholders from\\nInnovative IT Solutions. The presentation should highlight key elements and demonstrate\\napplication of project management principles. A Q&A session will follow to address any concerns\\nor questions from stakeholders.\\nEvaluation Criteria:\\n• Completeness, clarity and quality of planning documents\\n• Practical application of project management knowledge\\n• Collaboration and roles/responsibilities of group members\\n• Presentation skills and response to questions in class test\\nNo extensions to deadlines.'"
            ],
            "application/vnd.google.colaboratory.intrinsic+json": {
              "type": "string"
            }
          },
          "metadata": {},
          "execution_count": 4
        }
      ]
    },
    {
      "cell_type": "code",
      "source": [
        "import nltk\n",
        "from nltk.stem import PorterStemmer\n",
        "from nltk.corpus import stopwords"
      ],
      "metadata": {
        "id": "I8iTWd__j7eF"
      },
      "execution_count": null,
      "outputs": []
    },
    {
      "cell_type": "code",
      "source": [
        " ##tokenization\n",
        " nltk.download('punkt')\n",
        " sentences= nltk.sent_tokenize(corpors)"
      ],
      "metadata": {
        "colab": {
          "base_uri": "https://localhost:8080/"
        },
        "id": "vCOfIH4RkmGU",
        "outputId": "220a550f-3339-430d-8cbf-76f1d92b0877"
      },
      "execution_count": null,
      "outputs": [
        {
          "output_type": "stream",
          "name": "stderr",
          "text": [
            "[nltk_data] Downloading package punkt to /root/nltk_data...\n",
            "[nltk_data]   Unzipping tokenizers/punkt.zip.\n"
          ]
        }
      ]
    },
    {
      "cell_type": "code",
      "source": [
        "print(sentences)"
      ],
      "metadata": {
        "colab": {
          "base_uri": "https://localhost:8080/"
        },
        "id": "G3zKLvLGzBI9",
        "outputId": "cc95d8dc-f38b-40f9-f981-6c01f1a825d3"
      },
      "execution_count": null,
      "outputs": [
        {
          "output_type": "stream",
          "name": "stdout",
          "text": [
            "['2.', 'Class Test (10% of total marks):\\nClass Test Date: 1st November 2024 10.00am\\nYour group will orally present the planning documents to key project stakeholders from\\nInnovative IT Solutions.', 'The presentation should highlight key elements and demonstrate\\napplication of project management principles.', 'A Q&A session will follow to address any concerns\\nor questions from stakeholders.', 'Evaluation Criteria:\\n• Completeness, clarity and quality of planning documents\\n• Practical application of project management knowledge\\n• Collaboration and roles/responsibilities of group members\\n• Presentation skills and response to questions in class test\\nNo extensions to deadlines.']\n"
          ]
        }
      ]
    },
    {
      "cell_type": "code",
      "source": [
        "len(sentences)"
      ],
      "metadata": {
        "colab": {
          "base_uri": "https://localhost:8080/"
        },
        "id": "RAzwFAnSzemi",
        "outputId": "737b955d-c0bb-442c-9991-fbe210c86f5c"
      },
      "execution_count": null,
      "outputs": [
        {
          "output_type": "execute_result",
          "data": {
            "text/plain": [
              "5"
            ]
          },
          "metadata": {},
          "execution_count": 9
        }
      ]
    },
    {
      "cell_type": "code",
      "source": [
        "import re"
      ],
      "metadata": {
        "id": "QIUSwSxv2mok"
      },
      "execution_count": null,
      "outputs": []
    },
    {
      "cell_type": "code",
      "source": [
        "corpors2 = []\n",
        "for i in range(len(sentences)):\n",
        "  review = re.sub('[^a-zA-Z]', ' ', sentences[i])\n",
        "  review = review.lower()\n",
        "  corpors2.append(review)"
      ],
      "metadata": {
        "id": "-dqsdvIS3UGU"
      },
      "execution_count": null,
      "outputs": []
    },
    {
      "cell_type": "code",
      "source": [
        "corpors2"
      ],
      "metadata": {
        "colab": {
          "base_uri": "https://localhost:8080/"
        },
        "id": "UgBFAQFM32_y",
        "outputId": "c545d9d9-f8e7-4693-be4b-8b29b5b93710"
      },
      "execution_count": null,
      "outputs": [
        {
          "output_type": "execute_result",
          "data": {
            "text/plain": [
              "['  ',\n",
              " 'class test      of total marks   class test date   st november           am your group will orally present the planning documents to key project stakeholders from innovative it solutions ',\n",
              " 'the presentation should highlight key elements and demonstrate application of project management principles ',\n",
              " 'a q a session will follow to address any concerns or questions from stakeholders ',\n",
              " 'evaluation criteria    completeness  clarity and quality of planning documents   practical application of project management knowledge   collaboration and roles responsibilities of group members   presentation skills and response to questions in class test no extensions to deadlines ']"
            ]
          },
          "metadata": {},
          "execution_count": 10
        }
      ]
    },
    {
      "cell_type": "markdown",
      "source": [],
      "metadata": {
        "id": "p5tcm406DmVf"
      }
    },
    {
      "cell_type": "markdown",
      "source": [
        "APPLYING STEMMING"
      ],
      "metadata": {
        "id": "CcRv-Wp7DoIP"
      }
    },
    {
      "cell_type": "code",
      "source": [
        "from nltk.stem import WordNetLemmatizer\n",
        "from nltk.stem import PorterStemmer\n",
        "nltk.download('stopwords')\n",
        "nltk.download('wordnet')\n",
        "# Initialize the stemmer\n",
        "stemmer = PorterStemmer()\n",
        "lemmatizer = WordNetLemmatizer()\n",
        "nltk.download('wordnet')\n",
        "for i in corpors2:\n",
        "  words = nltk.word_tokenize(i)\n",
        "  for word in words:\n",
        "    if word not in set(stopwords.words('english')):\n",
        "      print(stemmer.stem(word))"
      ],
      "metadata": {
        "colab": {
          "base_uri": "https://localhost:8080/"
        },
        "id": "NffpMr7HDHnn",
        "outputId": "926496b5-a004-48a0-d531-cbccf6409387"
      },
      "execution_count": null,
      "outputs": [
        {
          "output_type": "stream",
          "name": "stdout",
          "text": [
            "class\n",
            "test\n",
            "total\n",
            "mark\n",
            "class\n",
            "test\n",
            "date\n",
            "st\n",
            "novemb\n",
            "group\n",
            "oral\n",
            "present\n",
            "plan\n",
            "document\n",
            "key\n",
            "project\n",
            "stakehold\n",
            "innov\n",
            "solut\n",
            "present\n",
            "highlight\n",
            "key\n",
            "element\n",
            "demonstr\n",
            "applic\n",
            "project\n",
            "manag\n",
            "principl\n",
            "q\n",
            "session\n",
            "follow\n",
            "address\n",
            "concern\n",
            "question\n",
            "stakehold\n",
            "evalu\n",
            "criteria\n",
            "complet\n",
            "clariti\n",
            "qualiti\n",
            "plan\n",
            "document\n",
            "practic\n",
            "applic\n",
            "project\n",
            "manag\n",
            "knowledg\n",
            "collabor\n",
            "role\n",
            "respons\n",
            "group\n",
            "member\n",
            "present\n",
            "skill\n",
            "respons\n",
            "question\n",
            "class\n",
            "test\n",
            "extens\n",
            "deadlin\n"
          ]
        },
        {
          "output_type": "stream",
          "name": "stderr",
          "text": [
            "[nltk_data] Downloading package stopwords to /root/nltk_data...\n",
            "[nltk_data]   Package stopwords is already up-to-date!\n",
            "[nltk_data] Downloading package wordnet to /root/nltk_data...\n",
            "[nltk_data]   Package wordnet is already up-to-date!\n",
            "[nltk_data] Downloading package wordnet to /root/nltk_data...\n",
            "[nltk_data]   Package wordnet is already up-to-date!\n"
          ]
        }
      ]
    },
    {
      "cell_type": "markdown",
      "source": [
        "APPLING LEMMATIZATION"
      ],
      "metadata": {
        "id": "lYIpl5cAD1Ie"
      }
    },
    {
      "cell_type": "code",
      "source": [
        "from nltk.stem import WordNetLemmatizer\n",
        "lemmatizer = WordNetLemmatizer()\n",
        "nltk.download('wordnet')\n",
        "for i in corpors2:\n",
        "  words = nltk.word_tokenize(i)\n",
        "  for word in words:\n",
        "    if word not in set(stopwords.words('english')):\n",
        "      print(lemmatizer.lemmatize(word))\n"
      ],
      "metadata": {
        "colab": {
          "base_uri": "https://localhost:8080/"
        },
        "id": "YbfthnaZ4Fqc",
        "outputId": "fab6dc2d-9fda-4e60-af0d-4bdd93cf2de8"
      },
      "execution_count": null,
      "outputs": [
        {
          "output_type": "stream",
          "name": "stdout",
          "text": [
            "class\n",
            "test\n",
            "total\n",
            "mark\n",
            "class\n",
            "test\n",
            "date\n",
            "st\n",
            "november\n",
            "group\n",
            "orally\n",
            "present\n",
            "planning\n",
            "document\n",
            "key\n",
            "project\n",
            "stakeholder\n",
            "innovative\n",
            "solution\n",
            "presentation\n",
            "highlight\n",
            "key\n",
            "element\n",
            "demonstrate\n",
            "application\n",
            "project\n",
            "management\n",
            "principle\n",
            "q\n",
            "session\n",
            "follow\n",
            "address\n",
            "concern\n",
            "question\n",
            "stakeholder\n",
            "evaluation\n",
            "criterion\n",
            "completeness\n",
            "clarity\n",
            "quality\n",
            "planning\n",
            "document\n",
            "practical\n",
            "application\n",
            "project\n",
            "management\n",
            "knowledge\n",
            "collaboration\n",
            "role\n",
            "responsibility\n",
            "group\n",
            "member\n",
            "presentation\n",
            "skill\n",
            "response\n",
            "question\n",
            "class\n",
            "test\n",
            "extension\n",
            "deadline\n"
          ]
        },
        {
          "output_type": "stream",
          "name": "stderr",
          "text": [
            "[nltk_data] Downloading package wordnet to /root/nltk_data...\n",
            "[nltk_data]   Package wordnet is already up-to-date!\n"
          ]
        }
      ]
    },
    {
      "cell_type": "code",
      "source": [
        "import nltk\n",
        "nltk.download('stopwords')\n",
        "stopwords.words('english')"
      ],
      "metadata": {
        "colab": {
          "base_uri": "https://localhost:8080/"
        },
        "id": "LlvueEnD8CjY",
        "outputId": "76e010cf-1859-4a05-eb64-7a6bd788064c"
      },
      "execution_count": null,
      "outputs": [
        {
          "output_type": "stream",
          "name": "stderr",
          "text": [
            "[nltk_data] Downloading package stopwords to /root/nltk_data...\n",
            "[nltk_data]   Package stopwords is already up-to-date!\n"
          ]
        },
        {
          "output_type": "execute_result",
          "data": {
            "text/plain": [
              "['i',\n",
              " 'me',\n",
              " 'my',\n",
              " 'myself',\n",
              " 'we',\n",
              " 'our',\n",
              " 'ours',\n",
              " 'ourselves',\n",
              " 'you',\n",
              " \"you're\",\n",
              " \"you've\",\n",
              " \"you'll\",\n",
              " \"you'd\",\n",
              " 'your',\n",
              " 'yours',\n",
              " 'yourself',\n",
              " 'yourselves',\n",
              " 'he',\n",
              " 'him',\n",
              " 'his',\n",
              " 'himself',\n",
              " 'she',\n",
              " \"she's\",\n",
              " 'her',\n",
              " 'hers',\n",
              " 'herself',\n",
              " 'it',\n",
              " \"it's\",\n",
              " 'its',\n",
              " 'itself',\n",
              " 'they',\n",
              " 'them',\n",
              " 'their',\n",
              " 'theirs',\n",
              " 'themselves',\n",
              " 'what',\n",
              " 'which',\n",
              " 'who',\n",
              " 'whom',\n",
              " 'this',\n",
              " 'that',\n",
              " \"that'll\",\n",
              " 'these',\n",
              " 'those',\n",
              " 'am',\n",
              " 'is',\n",
              " 'are',\n",
              " 'was',\n",
              " 'were',\n",
              " 'be',\n",
              " 'been',\n",
              " 'being',\n",
              " 'have',\n",
              " 'has',\n",
              " 'had',\n",
              " 'having',\n",
              " 'do',\n",
              " 'does',\n",
              " 'did',\n",
              " 'doing',\n",
              " 'a',\n",
              " 'an',\n",
              " 'the',\n",
              " 'and',\n",
              " 'but',\n",
              " 'if',\n",
              " 'or',\n",
              " 'because',\n",
              " 'as',\n",
              " 'until',\n",
              " 'while',\n",
              " 'of',\n",
              " 'at',\n",
              " 'by',\n",
              " 'for',\n",
              " 'with',\n",
              " 'about',\n",
              " 'against',\n",
              " 'between',\n",
              " 'into',\n",
              " 'through',\n",
              " 'during',\n",
              " 'before',\n",
              " 'after',\n",
              " 'above',\n",
              " 'below',\n",
              " 'to',\n",
              " 'from',\n",
              " 'up',\n",
              " 'down',\n",
              " 'in',\n",
              " 'out',\n",
              " 'on',\n",
              " 'off',\n",
              " 'over',\n",
              " 'under',\n",
              " 'again',\n",
              " 'further',\n",
              " 'then',\n",
              " 'once',\n",
              " 'here',\n",
              " 'there',\n",
              " 'when',\n",
              " 'where',\n",
              " 'why',\n",
              " 'how',\n",
              " 'all',\n",
              " 'any',\n",
              " 'both',\n",
              " 'each',\n",
              " 'few',\n",
              " 'more',\n",
              " 'most',\n",
              " 'other',\n",
              " 'some',\n",
              " 'such',\n",
              " 'no',\n",
              " 'nor',\n",
              " 'not',\n",
              " 'only',\n",
              " 'own',\n",
              " 'same',\n",
              " 'so',\n",
              " 'than',\n",
              " 'too',\n",
              " 'very',\n",
              " 's',\n",
              " 't',\n",
              " 'can',\n",
              " 'will',\n",
              " 'just',\n",
              " 'don',\n",
              " \"don't\",\n",
              " 'should',\n",
              " \"should've\",\n",
              " 'now',\n",
              " 'd',\n",
              " 'll',\n",
              " 'm',\n",
              " 'o',\n",
              " 're',\n",
              " 've',\n",
              " 'y',\n",
              " 'ain',\n",
              " 'aren',\n",
              " \"aren't\",\n",
              " 'couldn',\n",
              " \"couldn't\",\n",
              " 'didn',\n",
              " \"didn't\",\n",
              " 'doesn',\n",
              " \"doesn't\",\n",
              " 'hadn',\n",
              " \"hadn't\",\n",
              " 'hasn',\n",
              " \"hasn't\",\n",
              " 'haven',\n",
              " \"haven't\",\n",
              " 'isn',\n",
              " \"isn't\",\n",
              " 'ma',\n",
              " 'mightn',\n",
              " \"mightn't\",\n",
              " 'mustn',\n",
              " \"mustn't\",\n",
              " 'needn',\n",
              " \"needn't\",\n",
              " 'shan',\n",
              " \"shan't\",\n",
              " 'shouldn',\n",
              " \"shouldn't\",\n",
              " 'wasn',\n",
              " \"wasn't\",\n",
              " 'weren',\n",
              " \"weren't\",\n",
              " 'won',\n",
              " \"won't\",\n",
              " 'wouldn',\n",
              " \"wouldn't\"]"
            ]
          },
          "metadata": {},
          "execution_count": 24
        }
      ]
    },
    {
      "cell_type": "code",
      "source": [
        "from sklearn.feature_extraction.text import CountVectorizer\n",
        "cv=CountVectorizer()"
      ],
      "metadata": {
        "id": "QpHbNHqy8dIM"
      },
      "execution_count": null,
      "outputs": []
    },
    {
      "cell_type": "code",
      "source": [
        "X=cv.fit_transform(corpors2)"
      ],
      "metadata": {
        "id": "Cklsfx4vFUN5"
      },
      "execution_count": null,
      "outputs": []
    },
    {
      "cell_type": "code",
      "source": [
        "cv.vocabulary_"
      ],
      "metadata": {
        "colab": {
          "base_uri": "https://localhost:8080/"
        },
        "id": "_IZooiPrFbpB",
        "outputId": "eea2dd50-2a5d-4f30-f5f4-4d1961a08009"
      },
      "execution_count": null,
      "outputs": [
        {
          "output_type": "execute_result",
          "data": {
            "text/plain": [
              "{'class': 6,\n",
              " 'test': 52,\n",
              " 'of': 32,\n",
              " 'total': 55,\n",
              " 'marks': 28,\n",
              " 'date': 11,\n",
              " 'st': 50,\n",
              " 'november': 31,\n",
              " 'am': 1,\n",
              " 'your': 57,\n",
              " 'group': 20,\n",
              " 'will': 56,\n",
              " 'orally': 34,\n",
              " 'present': 37,\n",
              " 'the': 53,\n",
              " 'planning': 35,\n",
              " 'documents': 14,\n",
              " 'to': 54,\n",
              " 'key': 25,\n",
              " 'project': 40,\n",
              " 'stakeholders': 51,\n",
              " 'from': 19,\n",
              " 'innovative': 23,\n",
              " 'it': 24,\n",
              " 'solutions': 49,\n",
              " 'presentation': 38,\n",
              " 'should': 47,\n",
              " 'highlight': 21,\n",
              " 'elements': 15,\n",
              " 'and': 2,\n",
              " 'demonstrate': 13,\n",
              " 'application': 4,\n",
              " 'management': 27,\n",
              " 'principles': 39,\n",
              " 'session': 46,\n",
              " 'follow': 18,\n",
              " 'address': 0,\n",
              " 'any': 3,\n",
              " 'concerns': 9,\n",
              " 'or': 33,\n",
              " 'questions': 42,\n",
              " 'evaluation': 16,\n",
              " 'criteria': 10,\n",
              " 'completeness': 8,\n",
              " 'clarity': 5,\n",
              " 'quality': 41,\n",
              " 'practical': 36,\n",
              " 'knowledge': 26,\n",
              " 'collaboration': 7,\n",
              " 'roles': 45,\n",
              " 'responsibilities': 44,\n",
              " 'members': 29,\n",
              " 'skills': 48,\n",
              " 'response': 43,\n",
              " 'in': 22,\n",
              " 'no': 30,\n",
              " 'extensions': 17,\n",
              " 'deadlines': 12}"
            ]
          },
          "metadata": {},
          "execution_count": 27
        }
      ]
    },
    {
      "cell_type": "code",
      "source": [
        "corpors2[0]"
      ],
      "metadata": {
        "colab": {
          "base_uri": "https://localhost:8080/",
          "height": 35
        },
        "id": "jE-O2vMfFf77",
        "outputId": "81cb78ac-4d0a-49c1-dffc-823aa5ce77a5"
      },
      "execution_count": null,
      "outputs": [
        {
          "output_type": "execute_result",
          "data": {
            "text/plain": [
              "'  '"
            ],
            "application/vnd.google.colaboratory.intrinsic+json": {
              "type": "string"
            }
          },
          "metadata": {},
          "execution_count": 28
        }
      ]
    },
    {
      "cell_type": "code",
      "source": [
        "X[0].toarray()"
      ],
      "metadata": {
        "colab": {
          "base_uri": "https://localhost:8080/"
        },
        "id": "UFjdNW_yId2R",
        "outputId": "90ccc2a6-eb19-430a-bcca-cc7fe415a49a"
      },
      "execution_count": null,
      "outputs": [
        {
          "output_type": "execute_result",
          "data": {
            "text/plain": [
              "array([[0, 0, 0, 0, 0, 0, 0, 0, 0, 0, 0, 0, 0, 0, 0, 0, 0, 0, 0, 0, 0, 0,\n",
              "        0, 0, 0, 0, 0, 0, 0, 0, 0, 0, 0, 0, 0, 0, 0, 0, 0, 0, 0, 0, 0, 0,\n",
              "        0, 0, 0, 0, 0, 0, 0, 0, 0, 0, 0, 0, 0, 0]])"
            ]
          },
          "metadata": {},
          "execution_count": 29
        }
      ]
    },
    {
      "cell_type": "code",
      "source": [],
      "metadata": {
        "id": "jmWNsWGcIpCU"
      },
      "execution_count": null,
      "outputs": []
    }
  ]
}