{
  "nbformat": 4,
  "nbformat_minor": 0,
  "metadata": {
    "colab": {
      "provenance": [],
      "authorship_tag": "ABX9TyNx1mty2Z9i8mG+KvtbzahS",
      "include_colab_link": true
    },
    "kernelspec": {
      "name": "python3",
      "display_name": "Python 3"
    },
    "language_info": {
      "name": "python"
    }
  },
  "cells": [
    {
      "cell_type": "markdown",
      "metadata": {
        "id": "view-in-github",
        "colab_type": "text"
      },
      "source": [
        "<a href=\"https://colab.research.google.com/github/piyuminadee/NLP-Basic/blob/main/Untitled2.ipynb\" target=\"_parent\"><img src=\"https://colab.research.google.com/assets/colab-badge.svg\" alt=\"Open In Colab\"/></a>"
      ]
    },
    {
      "cell_type": "code",
      "execution_count": 1,
      "metadata": {
        "colab": {
          "base_uri": "https://localhost:8080/"
        },
        "id": "78bfTdbxpCSh",
        "outputId": "ca7b3b81-71ce-4935-c273-c01d8bb9b3d9"
      },
      "outputs": [
        {
          "output_type": "stream",
          "name": "stdout",
          "text": [
            "Requirement already satisfied: nltk in /usr/local/lib/python3.10/dist-packages (3.8.1)\n",
            "Requirement already satisfied: click in /usr/local/lib/python3.10/dist-packages (from nltk) (8.1.7)\n",
            "Requirement already satisfied: joblib in /usr/local/lib/python3.10/dist-packages (from nltk) (1.4.2)\n",
            "Requirement already satisfied: regex>=2021.8.3 in /usr/local/lib/python3.10/dist-packages (from nltk) (2024.9.11)\n",
            "Requirement already satisfied: tqdm in /usr/local/lib/python3.10/dist-packages (from nltk) (4.66.5)\n"
          ]
        }
      ],
      "source": [
        "pip install nltk"
      ]
    },
    {
      "cell_type": "code",
      "source": [
        "pip install ucimlrepo"
      ],
      "metadata": {
        "colab": {
          "base_uri": "https://localhost:8080/"
        },
        "id": "f3mm7h7UpFj_",
        "outputId": "1c3f88a3-37d8-46a3-c127-7d9c66df30fd"
      },
      "execution_count": 2,
      "outputs": [
        {
          "output_type": "stream",
          "name": "stdout",
          "text": [
            "Collecting ucimlrepo\n",
            "  Downloading ucimlrepo-0.0.7-py3-none-any.whl.metadata (5.5 kB)\n",
            "Requirement already satisfied: pandas>=1.0.0 in /usr/local/lib/python3.10/dist-packages (from ucimlrepo) (2.2.2)\n",
            "Requirement already satisfied: certifi>=2020.12.5 in /usr/local/lib/python3.10/dist-packages (from ucimlrepo) (2024.8.30)\n",
            "Requirement already satisfied: numpy>=1.22.4 in /usr/local/lib/python3.10/dist-packages (from pandas>=1.0.0->ucimlrepo) (1.26.4)\n",
            "Requirement already satisfied: python-dateutil>=2.8.2 in /usr/local/lib/python3.10/dist-packages (from pandas>=1.0.0->ucimlrepo) (2.8.2)\n",
            "Requirement already satisfied: pytz>=2020.1 in /usr/local/lib/python3.10/dist-packages (from pandas>=1.0.0->ucimlrepo) (2024.2)\n",
            "Requirement already satisfied: tzdata>=2022.7 in /usr/local/lib/python3.10/dist-packages (from pandas>=1.0.0->ucimlrepo) (2024.2)\n",
            "Requirement already satisfied: six>=1.5 in /usr/local/lib/python3.10/dist-packages (from python-dateutil>=2.8.2->pandas>=1.0.0->ucimlrepo) (1.16.0)\n",
            "Downloading ucimlrepo-0.0.7-py3-none-any.whl (8.0 kB)\n",
            "Installing collected packages: ucimlrepo\n",
            "Successfully installed ucimlrepo-0.0.7\n"
          ]
        }
      ]
    },
    {
      "cell_type": "code",
      "source": [
        "from ucimlrepo import fetch_ucirepo\n",
        "\n",
        "# fetch dataset\n",
        "predict_students_dropout_and_academic_success = fetch_ucirepo(id=697)\n",
        "\n",
        "# data (as pandas dataframes)\n",
        "X = predict_students_dropout_and_academic_success.data.features\n",
        "y = predict_students_dropout_and_academic_success.data.targets\n",
        "\n",
        "# metadata\n",
        "print(predict_students_dropout_and_academic_success.metadata)\n",
        "\n",
        "# variable information\n",
        "print(predict_students_dropout_and_academic_success.variables)\n"
      ],
      "metadata": {
        "colab": {
          "base_uri": "https://localhost:8080/"
        },
        "id": "1Tzi8TjRpKkN",
        "outputId": "4b4a5c81-2c31-40af-b5ce-0ccc29cfb1da"
      },
      "execution_count": 3,
      "outputs": [
        {
          "output_type": "stream",
          "name": "stdout",
          "text": [
            "{'uci_id': 697, 'name': \"Predict Students' Dropout and Academic Success\", 'repository_url': 'https://archive.ics.uci.edu/dataset/697/predict+students+dropout+and+academic+success', 'data_url': 'https://archive.ics.uci.edu/static/public/697/data.csv', 'abstract': \"A dataset created from a higher education institution (acquired from several disjoint databases) related to students enrolled in different undergraduate degrees, such as agronomy, design, education, nursing, journalism, management, social service, and technologies.\\nThe dataset includes information known at the time of student enrollment (academic path, demographics, and social-economic factors) and the students' academic performance at the end of the first and second semesters. \\nThe data is used to build classification models to predict students' dropout and academic sucess. The problem is formulated as a three category classification task, in which there is a strong imbalance towards one of the classes.\", 'area': 'Social Science', 'tasks': ['Classification'], 'characteristics': ['Tabular'], 'num_instances': 4424, 'num_features': 36, 'feature_types': ['Real', 'Categorical', 'Integer'], 'demographics': ['Marital Status', 'Education Level', 'Nationality', 'Occupation', 'Gender', 'Age'], 'target_col': ['Target'], 'index_col': None, 'has_missing_values': 'no', 'missing_values_symbol': None, 'year_of_dataset_creation': 2021, 'last_updated': 'Mon Feb 26 2024', 'dataset_doi': '10.24432/C5MC89', 'creators': ['Valentim Realinho', 'Mónica Vieira Martins', 'Jorge Machado', 'Luís Baptista'], 'intro_paper': {'ID': 99, 'type': 'NATIVE', 'title': \"Early prediction of student's performance in higher education: a case study\", 'authors': 'Mónica V. Martins, Daniel Tolledo, Jorge Machado, Luís M. T. Baptista, and Valentim Realinho', 'venue': 'Trends and Applications in Information Systems and Technologies', 'year': 2021, 'journal': 'Advances in Intelligent Systems and Computing series', 'DOI': 'http://www.doi.org/10.1007/978-3-030-72657-7_16', 'URL': 'http://www.worldcist.org/2021/', 'sha': None, 'corpus': None, 'arxiv': None, 'mag': None, 'acl': None, 'pmid': None, 'pmcid': None}, 'additional_info': {'summary': None, 'purpose': 'The dataset was created in a project that aims to contribute to the reduction of academic dropout and failure in higher education, by using machine learning techniques to identify students at risk at an early stage of their academic path, so that strategies to support them can be put into place. \\n\\nThe dataset includes information known at the time of student enrollment – academic path, demographics, and social-economic factors. \\n\\nThe problem is formulated as a three category classification task (dropout, enrolled, and graduate) at the end of the normal duration of the course. \\n', 'funded_by': 'This dataset is supported by program SATDAP - Capacitação da Administração Pública under grant POCI-05-5762-FSE-000191, Portugal.', 'instances_represent': 'Each instance is a student', 'recommended_data_splits': 'The dataset was used, in our project, with a data split of 80% for training and 20% for test.', 'sensitive_data': None, 'preprocessing_description': 'We performed a rigorous data preprocessing to handle data from anomalies, unexplainable outliers, and missing values.', 'variable_info': None, 'citation': 'If you use this dataset in experiments for a scientific publication, please kindly cite our paper: \\nM.V.Martins, D. Tolledo, J. Machado, L. M.T. Baptista, V.Realinho. (2021) \"Early prediction of student’s performance in higher education: a case study\" Trends and Applications in Information Systems and Technologies, vol.1, in Advances in Intelligent Systems and Computing series. Springer. DOI: 10.1007/978-3-030-72657-7_16'}}\n",
            "                                              name     role         type  \\\n",
            "0                                   Marital Status  Feature      Integer   \n",
            "1                                 Application mode  Feature      Integer   \n",
            "2                                Application order  Feature      Integer   \n",
            "3                                           Course  Feature      Integer   \n",
            "4                       Daytime/evening attendance  Feature      Integer   \n",
            "5                           Previous qualification  Feature      Integer   \n",
            "6                   Previous qualification (grade)  Feature   Continuous   \n",
            "7                                      Nacionality  Feature      Integer   \n",
            "8                           Mother's qualification  Feature      Integer   \n",
            "9                           Father's qualification  Feature      Integer   \n",
            "10                             Mother's occupation  Feature      Integer   \n",
            "11                             Father's occupation  Feature      Integer   \n",
            "12                                 Admission grade  Feature   Continuous   \n",
            "13                                       Displaced  Feature      Integer   \n",
            "14                       Educational special needs  Feature      Integer   \n",
            "15                                          Debtor  Feature      Integer   \n",
            "16                         Tuition fees up to date  Feature      Integer   \n",
            "17                                          Gender  Feature      Integer   \n",
            "18                              Scholarship holder  Feature      Integer   \n",
            "19                               Age at enrollment  Feature      Integer   \n",
            "20                                   International  Feature      Integer   \n",
            "21             Curricular units 1st sem (credited)  Feature      Integer   \n",
            "22             Curricular units 1st sem (enrolled)  Feature      Integer   \n",
            "23          Curricular units 1st sem (evaluations)  Feature      Integer   \n",
            "24             Curricular units 1st sem (approved)  Feature      Integer   \n",
            "25                Curricular units 1st sem (grade)  Feature      Integer   \n",
            "26  Curricular units 1st sem (without evaluations)  Feature      Integer   \n",
            "27             Curricular units 2nd sem (credited)  Feature      Integer   \n",
            "28             Curricular units 2nd sem (enrolled)  Feature      Integer   \n",
            "29          Curricular units 2nd sem (evaluations)  Feature      Integer   \n",
            "30             Curricular units 2nd sem (approved)  Feature      Integer   \n",
            "31                Curricular units 2nd sem (grade)  Feature      Integer   \n",
            "32  Curricular units 2nd sem (without evaluations)  Feature      Integer   \n",
            "33                               Unemployment rate  Feature   Continuous   \n",
            "34                                  Inflation rate  Feature   Continuous   \n",
            "35                                             GDP  Feature   Continuous   \n",
            "36                                          Target   Target  Categorical   \n",
            "\n",
            "        demographic                                        description units  \\\n",
            "0    Marital Status  1 – single 2 – married 3 – widower 4 – divorce...  None   \n",
            "1              None  1 - 1st phase - general contingent 2 - Ordinan...  None   \n",
            "2              None  Application order (between 0 - first choice; a...  None   \n",
            "3              None  33 - Biofuel Production Technologies 171 - Ani...  None   \n",
            "4              None                            1 – daytime 0 - evening  None   \n",
            "5   Education Level  1 - Secondary education 2 - Higher education -...  None   \n",
            "6              None  Grade of previous qualification (between 0 and...  None   \n",
            "7       Nationality  1 - Portuguese; 2 - German; 6 - Spanish; 11 - ...  None   \n",
            "8   Education Level  1 - Secondary Education - 12th Year of Schooli...  None   \n",
            "9   Education Level  1 - Secondary Education - 12th Year of Schooli...  None   \n",
            "10       Occupation  0 - Student 1 - Representatives of the Legisla...  None   \n",
            "11       Occupation  0 - Student 1 - Representatives of the Legisla...  None   \n",
            "12             None                Admission grade (between 0 and 200)  None   \n",
            "13             None                                     1 – yes 0 – no  None   \n",
            "14             None                                     1 – yes 0 – no  None   \n",
            "15             None                                     1 – yes 0 – no  None   \n",
            "16             None                                     1 – yes 0 – no  None   \n",
            "17           Gender                                1 – male 0 – female  None   \n",
            "18             None                                     1 – yes 0 – no  None   \n",
            "19              Age                       Age of studend at enrollment  None   \n",
            "20             None                                     1 – yes 0 – no  None   \n",
            "21             None  Number of curricular units credited in the 1st...  None   \n",
            "22             None  Number of curricular units enrolled in the 1st...  None   \n",
            "23             None  Number of evaluations to curricular units in t...  None   \n",
            "24             None  Number of curricular units approved in the 1st...  None   \n",
            "25             None  Grade average in the 1st semester (between 0 a...  None   \n",
            "26             None  Number of curricular units without evalutions ...  None   \n",
            "27             None  Number of curricular units credited in the 2nd...  None   \n",
            "28             None  Number of curricular units enrolled in the 2nd...  None   \n",
            "29             None  Number of evaluations to curricular units in t...  None   \n",
            "30             None  Number of curricular units approved in the 2nd...  None   \n",
            "31             None  Grade average in the 2nd semester (between 0 a...  None   \n",
            "32             None  Number of curricular units without evalutions ...  None   \n",
            "33             None                              Unemployment rate (%)  None   \n",
            "34             None                                 Inflation rate (%)  None   \n",
            "35             None                                                GDP  None   \n",
            "36             None  Target. The problem is formulated as a three c...  None   \n",
            "\n",
            "   missing_values  \n",
            "0              no  \n",
            "1              no  \n",
            "2              no  \n",
            "3              no  \n",
            "4              no  \n",
            "5              no  \n",
            "6              no  \n",
            "7              no  \n",
            "8              no  \n",
            "9              no  \n",
            "10             no  \n",
            "11             no  \n",
            "12             no  \n",
            "13             no  \n",
            "14             no  \n",
            "15             no  \n",
            "16             no  \n",
            "17             no  \n",
            "18             no  \n",
            "19             no  \n",
            "20             no  \n",
            "21             no  \n",
            "22             no  \n",
            "23             no  \n",
            "24             no  \n",
            "25             no  \n",
            "26             no  \n",
            "27             no  \n",
            "28             no  \n",
            "29             no  \n",
            "30             no  \n",
            "31             no  \n",
            "32             no  \n",
            "33             no  \n",
            "34             no  \n",
            "35             no  \n",
            "36             no  \n"
          ]
        }
      ]
    },
    {
      "cell_type": "code",
      "source": [
        "sentence = \"\"\"\n",
        "The first step to start saving money is figuring out how much you spend.\n",
        "Keep track of all your expenses—that means every coffee, household item and\n",
        "cash tip as well as regular monthly bills. Record your expenses however is\n",
        "easiest for you—a pencil and paper, a simple spreadsheet or a free online spending tracker or app.\n",
        "Once you have your data, organize the numbers by categories, such as gas, groceries and mortgage,\n",
        "and total each amount. Use your credit card and bank statements to make sure you’ve included everything.\n",
        "Now that you know what you spend in a month, you can begin to create a budget. Your budget should show what\n",
        " your expenses are relative to your income, so that you can plan your spending and limit overspending.\n",
        " Be sure to factor in expenses that occur regularly but not every month, such as car maintenance.\n",
        " Include a savings category in your budget and aim to save an amount that initially feels comfortable to you.\n",
        " Plan on eventually increasing your savings by up to 15 to 20 percent of your income.One of the best ways to\n",
        " save money is to set a goal. Start by thinking about what you might want to save for—both in the short term\n",
        " (one to three years) and the long term (four or more years). Then estimate how much money you’ll need and how long it might take you to save it.\"\"\""
      ],
      "metadata": {
        "id": "vFmGjAEzpOpe"
      },
      "execution_count": 4,
      "outputs": []
    },
    {
      "cell_type": "code",
      "source": [
        "sentence"
      ],
      "metadata": {
        "colab": {
          "base_uri": "https://localhost:8080/",
          "height": 140
        },
        "id": "zo94uoE7uL29",
        "outputId": "1d2d5b78-0f1c-4102-906a-83b6e0247231"
      },
      "execution_count": 5,
      "outputs": [
        {
          "output_type": "execute_result",
          "data": {
            "text/plain": [
              "'\\nThe first step to start saving money is figuring out how much you spend. \\nKeep track of all your expenses—that means every coffee, household item and \\ncash tip as well as regular monthly bills. Record your expenses however is \\neasiest for you—a pencil and paper, a simple spreadsheet or a free online spending tracker or app. \\nOnce you have your data, organize the numbers by categories, such as gas, groceries and mortgage, \\nand total each amount. Use your credit card and bank statements to make sure you’ve included everything.\\nNow that you know what you spend in a month, you can begin to create a budget. Your budget should show what\\n your expenses are relative to your income, so that you can plan your spending and limit overspending. \\n Be sure to factor in expenses that occur regularly but not every month, such as car maintenance. \\n Include a savings category in your budget and aim to save an amount that initially feels comfortable to you. \\n Plan on eventually increasing your savings by up to 15 to 20 percent of your income.One of the best ways to \\n save money is to set a goal. Start by thinking about what you might want to save for—both in the short term \\n (one to three years) and the long term (four or more years). Then estimate how much money you’ll need and how long it might take you to save it.'"
            ],
            "application/vnd.google.colaboratory.intrinsic+json": {
              "type": "string"
            }
          },
          "metadata": {},
          "execution_count": 5
        }
      ]
    },
    {
      "cell_type": "code",
      "source": [
        "import nltk\n",
        "from nltk.stem import PorterStemmer\n",
        "from nltk.corpus import stopwords"
      ],
      "metadata": {
        "id": "krl8JRW8uNiF"
      },
      "execution_count": 6,
      "outputs": []
    },
    {
      "cell_type": "code",
      "source": [
        " ##tokenization\n",
        " nltk.download('punkt')\n",
        " sentences= nltk.sent_tokenize(sentence)"
      ],
      "metadata": {
        "colab": {
          "base_uri": "https://localhost:8080/"
        },
        "id": "pYRuPjskuQ_7",
        "outputId": "cdc09ae8-ddba-4a42-db8d-6487fff1db5e"
      },
      "execution_count": 7,
      "outputs": [
        {
          "output_type": "stream",
          "name": "stderr",
          "text": [
            "[nltk_data] Downloading package punkt to /root/nltk_data...\n",
            "[nltk_data]   Unzipping tokenizers/punkt.zip.\n"
          ]
        }
      ]
    },
    {
      "cell_type": "code",
      "source": [
        "print(sentences)"
      ],
      "metadata": {
        "colab": {
          "base_uri": "https://localhost:8080/"
        },
        "id": "NxUjR6sRuY9y",
        "outputId": "7f273340-00f2-4b3f-b448-a9fe9d2aebe9"
      },
      "execution_count": 8,
      "outputs": [
        {
          "output_type": "stream",
          "name": "stdout",
          "text": [
            "['\\nThe first step to start saving money is figuring out how much you spend.', 'Keep track of all your expenses—that means every coffee, household item and \\ncash tip as well as regular monthly bills.', 'Record your expenses however is \\neasiest for you—a pencil and paper, a simple spreadsheet or a free online spending tracker or app.', 'Once you have your data, organize the numbers by categories, such as gas, groceries and mortgage, \\nand total each amount.', 'Use your credit card and bank statements to make sure you’ve included everything.', 'Now that you know what you spend in a month, you can begin to create a budget.', 'Your budget should show what\\n your expenses are relative to your income, so that you can plan your spending and limit overspending.', 'Be sure to factor in expenses that occur regularly but not every month, such as car maintenance.', 'Include a savings category in your budget and aim to save an amount that initially feels comfortable to you.', 'Plan on eventually increasing your savings by up to 15 to 20 percent of your income.One of the best ways to \\n save money is to set a goal.', 'Start by thinking about what you might want to save for—both in the short term \\n (one to three years) and the long term (four or more years).', 'Then estimate how much money you’ll need and how long it might take you to save it.']\n"
          ]
        }
      ]
    },
    {
      "cell_type": "code",
      "source": [
        "len(sentences)"
      ],
      "metadata": {
        "colab": {
          "base_uri": "https://localhost:8080/"
        },
        "id": "1r_Ga4gFub9v",
        "outputId": "efac923a-528e-40ee-b821-a88b9c656131"
      },
      "execution_count": 9,
      "outputs": [
        {
          "output_type": "execute_result",
          "data": {
            "text/plain": [
              "12"
            ]
          },
          "metadata": {},
          "execution_count": 9
        }
      ]
    },
    {
      "cell_type": "code",
      "source": [
        "import re"
      ],
      "metadata": {
        "id": "Lk7erjZhui04"
      },
      "execution_count": 10,
      "outputs": []
    },
    {
      "cell_type": "code",
      "source": [
        "corpurs = []\n",
        "for i in range(len(sentences)):\n",
        "  review = re.sub('[^a-zA-Z]', ' ', sentences[i])\n",
        "  review = review.lower()\n",
        "  corpurs.append(review)"
      ],
      "metadata": {
        "id": "rNQ5pfJvulFu"
      },
      "execution_count": 11,
      "outputs": []
    },
    {
      "cell_type": "code",
      "source": [
        "corpurs"
      ],
      "metadata": {
        "colab": {
          "base_uri": "https://localhost:8080/"
        },
        "id": "pDi7OSItvBaB",
        "outputId": "2c3bafa2-d963-4456-9bb6-af0c54332bd6"
      },
      "execution_count": 12,
      "outputs": [
        {
          "output_type": "execute_result",
          "data": {
            "text/plain": [
              "[' the first step to start saving money is figuring out how much you spend ',\n",
              " 'keep track of all your expenses that means every coffee  household item and  cash tip as well as regular monthly bills ',\n",
              " 'record your expenses however is  easiest for you a pencil and paper  a simple spreadsheet or a free online spending tracker or app ',\n",
              " 'once you have your data  organize the numbers by categories  such as gas  groceries and mortgage   and total each amount ',\n",
              " 'use your credit card and bank statements to make sure you ve included everything ',\n",
              " 'now that you know what you spend in a month  you can begin to create a budget ',\n",
              " 'your budget should show what  your expenses are relative to your income  so that you can plan your spending and limit overspending ',\n",
              " 'be sure to factor in expenses that occur regularly but not every month  such as car maintenance ',\n",
              " 'include a savings category in your budget and aim to save an amount that initially feels comfortable to you ',\n",
              " 'plan on eventually increasing your savings by up to    to    percent of your income one of the best ways to   save money is to set a goal ',\n",
              " 'start by thinking about what you might want to save for both in the short term    one to three years  and the long term  four or more years  ',\n",
              " 'then estimate how much money you ll need and how long it might take you to save it ']"
            ]
          },
          "metadata": {},
          "execution_count": 12
        }
      ]
    },
    {
      "cell_type": "code",
      "source": [
        "from sklearn.feature_extraction.text import CountVectorizer\n",
        "cv=CountVectorizer(ngram_range=(3,3))"
      ],
      "metadata": {
        "id": "pZS3X84xvFGP"
      },
      "execution_count": 23,
      "outputs": []
    },
    {
      "cell_type": "code",
      "source": [],
      "metadata": {
        "id": "-fnYscZEEnhs"
      },
      "execution_count": null,
      "outputs": []
    },
    {
      "cell_type": "code",
      "source": [
        "X=cv.fit_transform(corpurs)"
      ],
      "metadata": {
        "id": "xQriKOIQwDyp"
      },
      "execution_count": 24,
      "outputs": []
    },
    {
      "cell_type": "code",
      "source": [
        "cv.vocabulary_"
      ],
      "metadata": {
        "colab": {
          "base_uri": "https://localhost:8080/"
        },
        "id": "0SDu3Uo-wIF-",
        "outputId": "b5d556d5-8b90-4cc9-976a-f80e7661299a"
      },
      "execution_count": 25,
      "outputs": [
        {
          "output_type": "execute_result",
          "data": {
            "text/plain": [
              "{'the first step': 154,\n",
              " 'first step to': 52,\n",
              " 'step to start': 140,\n",
              " 'to start saving': 171,\n",
              " 'start saving money': 138,\n",
              " 'saving money is': 125,\n",
              " 'money is figuring': 88,\n",
              " 'is figuring out': 75,\n",
              " 'figuring out how': 51,\n",
              " 'out how much': 112,\n",
              " 'how much you': 63,\n",
              " 'much you spend': 95,\n",
              " 'keep track of': 79,\n",
              " 'track of all': 176,\n",
              " 'of all your': 101,\n",
              " 'all your expenses': 2,\n",
              " 'your expenses that': 204,\n",
              " 'expenses that means': 47,\n",
              " 'that means every': 149,\n",
              " 'means every coffee': 85,\n",
              " 'every coffee household': 43,\n",
              " 'coffee household item': 36,\n",
              " 'household item and': 60,\n",
              " 'item and cash': 78,\n",
              " 'and cash tip': 7,\n",
              " 'cash tip as': 33,\n",
              " 'tip as well': 161,\n",
              " 'as well as': 18,\n",
              " 'well as regular': 183,\n",
              " 'as regular monthly': 17,\n",
              " 'regular monthly bills': 119,\n",
              " 'record your expenses': 118,\n",
              " 'your expenses however': 203,\n",
              " 'expenses however is': 46,\n",
              " 'however is easiest': 64,\n",
              " 'is easiest for': 74,\n",
              " 'easiest for you': 40,\n",
              " 'for you pencil': 54,\n",
              " 'you pencil and': 194,\n",
              " 'pencil and paper': 114,\n",
              " 'and paper simple': 11,\n",
              " 'paper simple spreadsheet': 113,\n",
              " 'simple spreadsheet or': 131,\n",
              " 'spreadsheet or free': 136,\n",
              " 'or free online': 109,\n",
              " 'free online spending': 56,\n",
              " 'online spending tracker': 108,\n",
              " 'spending tracker or': 135,\n",
              " 'tracker or app': 177,\n",
              " 'once you have': 105,\n",
              " 'you have your': 190,\n",
              " 'have your data': 59,\n",
              " 'your data organize': 201,\n",
              " 'data organize the': 39,\n",
              " 'organize the numbers': 111,\n",
              " 'the numbers by': 156,\n",
              " 'numbers by categories': 99,\n",
              " 'by categories such': 27,\n",
              " 'categories such as': 34,\n",
              " 'such as gas': 142,\n",
              " 'as gas groceries': 16,\n",
              " 'gas groceries and': 57,\n",
              " 'groceries and mortgage': 58,\n",
              " 'and mortgage and': 10,\n",
              " 'mortgage and total': 93,\n",
              " 'and total each': 13,\n",
              " 'total each amount': 175,\n",
              " 'use your credit': 179,\n",
              " 'your credit card': 200,\n",
              " 'credit card and': 38,\n",
              " 'card and bank': 32,\n",
              " 'and bank statements': 6,\n",
              " 'bank statements to': 19,\n",
              " 'statements to make': 139,\n",
              " 'to make sure': 164,\n",
              " 'make sure you': 84,\n",
              " 'sure you ve': 144,\n",
              " 'you ve included': 197,\n",
              " 've included everything': 180,\n",
              " 'now that you': 98,\n",
              " 'that you know': 152,\n",
              " 'you know what': 191,\n",
              " 'know what you': 80,\n",
              " 'what you spend': 185,\n",
              " 'you spend in': 195,\n",
              " 'spend in month': 133,\n",
              " 'in month you': 66,\n",
              " 'month you can': 92,\n",
              " 'you can begin': 188,\n",
              " 'can begin to': 30,\n",
              " 'begin to create': 21,\n",
              " 'to create budget': 162,\n",
              " 'your budget should': 199,\n",
              " 'budget should show': 25,\n",
              " 'should show what': 129,\n",
              " 'show what your': 130,\n",
              " 'what your expenses': 186,\n",
              " 'your expenses are': 202,\n",
              " 'expenses are relative': 45,\n",
              " 'are relative to': 14,\n",
              " 'relative to your': 121,\n",
              " 'to your income': 174,\n",
              " 'your income so': 206,\n",
              " 'income so that': 71,\n",
              " 'so that you': 132,\n",
              " 'that you can': 151,\n",
              " 'you can plan': 189,\n",
              " 'can plan your': 31,\n",
              " 'plan your spending': 117,\n",
              " 'your spending and': 208,\n",
              " 'spending and limit': 134,\n",
              " 'and limit overspending': 9,\n",
              " 'be sure to': 20,\n",
              " 'sure to factor': 143,\n",
              " 'to factor in': 163,\n",
              " 'factor in expenses': 49,\n",
              " 'in expenses that': 65,\n",
              " 'expenses that occur': 48,\n",
              " 'that occur regularly': 150,\n",
              " 'occur regularly but': 100,\n",
              " 'regularly but not': 120,\n",
              " 'but not every': 26,\n",
              " 'not every month': 97,\n",
              " 'every month such': 44,\n",
              " 'month such as': 91,\n",
              " 'such as car': 141,\n",
              " 'as car maintenance': 15,\n",
              " 'include savings category': 69,\n",
              " 'savings category in': 127,\n",
              " 'category in your': 35,\n",
              " 'in your budget': 68,\n",
              " 'your budget and': 198,\n",
              " 'budget and aim': 24,\n",
              " 'and aim to': 5,\n",
              " 'aim to save': 1,\n",
              " 'to save an': 166,\n",
              " 'save an amount': 122,\n",
              " 'an amount that': 4,\n",
              " 'amount that initially': 3,\n",
              " 'that initially feels': 148,\n",
              " 'initially feels comfortable': 73,\n",
              " 'feels comfortable to': 50,\n",
              " 'comfortable to you': 37,\n",
              " 'plan on eventually': 116,\n",
              " 'on eventually increasing': 104,\n",
              " 'eventually increasing your': 42,\n",
              " 'increasing your savings': 72,\n",
              " 'your savings by': 207,\n",
              " 'savings by up': 126,\n",
              " 'by up to': 29,\n",
              " 'up to to': 178,\n",
              " 'to to percent': 173,\n",
              " 'to percent of': 165,\n",
              " 'percent of your': 115,\n",
              " 'of your income': 103,\n",
              " 'your income one': 205,\n",
              " 'income one of': 70,\n",
              " 'one of the': 106,\n",
              " 'of the best': 102,\n",
              " 'the best ways': 153,\n",
              " 'best ways to': 22,\n",
              " 'ways to save': 182,\n",
              " 'to save money': 169,\n",
              " 'save money is': 124,\n",
              " 'money is to': 89,\n",
              " 'is to set': 76,\n",
              " 'to set goal': 170,\n",
              " 'start by thinking': 137,\n",
              " 'by thinking about': 28,\n",
              " 'thinking about what': 159,\n",
              " 'about what you': 0,\n",
              " 'what you might': 184,\n",
              " 'you might want': 193,\n",
              " 'might want to': 87,\n",
              " 'want to save': 181,\n",
              " 'to save for': 167,\n",
              " 'save for both': 123,\n",
              " 'for both in': 53,\n",
              " 'both in the': 23,\n",
              " 'in the short': 67,\n",
              " 'the short term': 157,\n",
              " 'short term one': 128,\n",
              " 'term one to': 147,\n",
              " 'one to three': 107,\n",
              " 'to three years': 172,\n",
              " 'three years and': 160,\n",
              " 'years and the': 187,\n",
              " 'and the long': 12,\n",
              " 'the long term': 155,\n",
              " 'long term four': 83,\n",
              " 'term four or': 146,\n",
              " 'four or more': 55,\n",
              " 'or more years': 110,\n",
              " 'then estimate how': 158,\n",
              " 'estimate how much': 41,\n",
              " 'how much money': 62,\n",
              " 'much money you': 94,\n",
              " 'money you ll': 90,\n",
              " 'you ll need': 192,\n",
              " 'll need and': 81,\n",
              " 'need and how': 96,\n",
              " 'and how long': 8,\n",
              " 'how long it': 61,\n",
              " 'long it might': 82,\n",
              " 'it might take': 77,\n",
              " 'might take you': 86,\n",
              " 'take you to': 145,\n",
              " 'you to save': 196,\n",
              " 'to save it': 168}"
            ]
          },
          "metadata": {},
          "execution_count": 25
        }
      ]
    },
    {
      "cell_type": "markdown",
      "source": [
        "APPLIYING TF IDF"
      ],
      "metadata": {
        "id": "wKFkLbKq-gsS"
      }
    },
    {
      "cell_type": "code",
      "source": [
        "from sklearn.feature_extraction.text import TfidfVectorizer\n",
        "cv=TfidfVectorizer()\n",
        "X=cv.fit_transform(corpurs)"
      ],
      "metadata": {
        "id": "nTUV67LpwQGO"
      },
      "execution_count": 18,
      "outputs": []
    },
    {
      "cell_type": "code",
      "source": [
        "corpurs[1]"
      ],
      "metadata": {
        "colab": {
          "base_uri": "https://localhost:8080/",
          "height": 35
        },
        "id": "Mv3yoFEw-6dp",
        "outputId": "309d814d-4001-4634-bbe5-7200ae462ac1"
      },
      "execution_count": 19,
      "outputs": [
        {
          "output_type": "execute_result",
          "data": {
            "text/plain": [
              "'keep track of all your expenses that means every coffee  household item and  cash tip as well as regular monthly bills '"
            ],
            "application/vnd.google.colaboratory.intrinsic+json": {
              "type": "string"
            }
          },
          "metadata": {},
          "execution_count": 19
        }
      ]
    },
    {
      "cell_type": "code",
      "source": [
        "from sklearn.feature_extraction.text import TfidfVectorizer\n",
        "cv = TfidfVectorizer()\n",
        "X=cv.fit_transform(corpurs)"
      ],
      "metadata": {
        "id": "vvef4ZQN_KUf"
      },
      "execution_count": 20,
      "outputs": []
    },
    {
      "cell_type": "code",
      "source": [
        "corpurs[1]"
      ],
      "metadata": {
        "colab": {
          "base_uri": "https://localhost:8080/",
          "height": 35
        },
        "id": "2aGVIpIBCXkw",
        "outputId": "f3a5dc63-0a7a-4256-9bd4-e1aabc7623e4"
      },
      "execution_count": 21,
      "outputs": [
        {
          "output_type": "execute_result",
          "data": {
            "text/plain": [
              "'keep track of all your expenses that means every coffee  household item and  cash tip as well as regular monthly bills '"
            ],
            "application/vnd.google.colaboratory.intrinsic+json": {
              "type": "string"
            }
          },
          "metadata": {},
          "execution_count": 21
        }
      ]
    },
    {
      "cell_type": "code",
      "source": [
        "X[1].toarray()   #conver the TFIDF values for the second document into a dense array format"
      ],
      "metadata": {
        "colab": {
          "base_uri": "https://localhost:8080/"
        },
        "id": "Iqs7oOAECaMG",
        "outputId": "7ec96a03-72e2-45b6-a7ac-a6a37267f15c"
      },
      "execution_count": 22,
      "outputs": [
        {
          "output_type": "execute_result",
          "data": {
            "text/plain": [
              "array([[0.        , 0.        , 0.23494289, 0.        , 0.        ,\n",
              "        0.11189392, 0.        , 0.        , 0.35647267, 0.        ,\n",
              "        0.        , 0.        , 0.        , 0.23494289, 0.        ,\n",
              "        0.        , 0.        , 0.        , 0.        , 0.        ,\n",
              "        0.        , 0.23494289, 0.        , 0.        , 0.23494289,\n",
              "        0.        , 0.        , 0.        , 0.        , 0.        ,\n",
              "        0.        , 0.        , 0.        , 0.20177168, 0.        ,\n",
              "        0.1599809 , 0.        , 0.        , 0.        , 0.        ,\n",
              "        0.        , 0.        , 0.        , 0.        , 0.        ,\n",
              "        0.        , 0.        , 0.23494289, 0.        , 0.        ,\n",
              "        0.        , 0.        , 0.        , 0.        , 0.        ,\n",
              "        0.        , 0.        , 0.        , 0.23494289, 0.23494289,\n",
              "        0.        , 0.        , 0.        , 0.        , 0.        ,\n",
              "        0.        , 0.23494289, 0.        , 0.        , 0.        ,\n",
              "        0.23494289, 0.        , 0.        , 0.        , 0.        ,\n",
              "        0.        , 0.        , 0.        , 0.        , 0.20177168,\n",
              "        0.        , 0.        , 0.        , 0.        , 0.        ,\n",
              "        0.        , 0.        , 0.        , 0.        , 0.        ,\n",
              "        0.        , 0.        , 0.        , 0.23494289, 0.        ,\n",
              "        0.        , 0.        , 0.        , 0.        , 0.        ,\n",
              "        0.        , 0.        , 0.        , 0.        , 0.        ,\n",
              "        0.        , 0.        , 0.        , 0.        , 0.        ,\n",
              "        0.        , 0.        , 0.        , 0.        , 0.        ,\n",
              "        0.14506513, 0.        , 0.        , 0.        , 0.        ,\n",
              "        0.23494289, 0.        , 0.        , 0.23494289, 0.        ,\n",
              "        0.        , 0.        , 0.        , 0.        , 0.        ,\n",
              "        0.23494289, 0.        , 0.        , 0.        , 0.12152978]])"
            ]
          },
          "metadata": {},
          "execution_count": 22
        }
      ]
    },
    {
      "cell_type": "code",
      "source": [],
      "metadata": {
        "id": "zIVHPzuVCeEp"
      },
      "execution_count": null,
      "outputs": []
    }
  ]
}